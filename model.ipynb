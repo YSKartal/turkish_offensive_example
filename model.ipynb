{
 "cells": [
  {
   "cell_type": "code",
   "execution_count": 1,
   "metadata": {},
   "outputs": [],
   "source": [
    "import pandas as pd\n",
    "import numpy as np\n",
    "import os\n",
    "import glob\n",
    "import csv\n",
    "from sklearn import model_selection\n",
    "from sklearn.linear_model import LogisticRegression\n",
    "from sklearn.model_selection import KFold"
   ]
  },
  {
   "cell_type": "code",
   "execution_count": 2,
   "metadata": {},
   "outputs": [],
   "source": [
    "# sınıflandırıcı işlemleri\n",
    "def classifier(df):\n",
    "\n",
    "    # feature vektörünün ilk iki sutunu feature(x1), son sutunu label(y1)\n",
    "    x1 = df.iloc[:,:2]\n",
    "    y1 = df['label']\n",
    "\n",
    "    # kfold validation 5 yapıldı\n",
    "    kfold = model_selection.KFold(n_splits=5, random_state=100)\n",
    "    # sınıflandırıcı modeli logistic regression olarak ayarlı, parametreleri değişebilir\n",
    "    model_kfold = LogisticRegression(solver='lbfgs')\n",
    "    results_kfold = model_selection.cross_val_score(model_kfold, x1, y1, cv=kfold)\n",
    "    print(\"Logistic Regression Accuracy: %.2f%%\" % (results_kfold.mean()*100.0))\n"
   ]
  },
  {
   "cell_type": "code",
   "execution_count": 3,
   "metadata": {},
   "outputs": [],
   "source": [
    "# Burada öznitelikler oluşturulur\n",
    "def extractFeatures(df):\n",
    "\n",
    "    # 'fDf': feature array olacak\n",
    "    fDf = pd.DataFrame()\n",
    "\n",
    "    length = [] # 1. feature: tweetteki kelime sayısı(normalize edilmemiş)\n",
    "    mention = [] # 2. feature: tweetteki mention sayısı\n",
    "\n",
    "    # tweetleri sırasıyla oku\n",
    "    for text in df['tweet']:\n",
    "\n",
    "        length += [len(text.split())]\n",
    "        mention += [text.count('@')]\n",
    "    \n",
    "    # featureları arraye yerleştir\n",
    "    fDf['length']=length\n",
    "    fDf['mention']=mention\n",
    "    # train dataframeden labelları ekle\n",
    "    fDf['label']=df['subtask']\n",
    "    \n",
    "    # 2 feature içeren train array hazır\n",
    "    print(fDf[:10])\n",
    "\n",
    "    # hazırlanan dataframei sınıflandırıcıya ver\n",
    "    classifier(fDf)\n"
   ]
  },
  {
   "cell_type": "code",
   "execution_count": 4,
   "metadata": {},
   "outputs": [],
   "source": [
    "# train dosyasını oku ve dataframe hazırla\n",
    "def readTrainFiles():\n",
    "    columns = ['id', 'tweet', 'subtask']\n",
    "    trainFiles = []\n",
    "    ext=\".tsv\"\n",
    "    for file in glob.glob( \"./train/*\" + ext): trainFiles.append(file)\n",
    "    print(\"Train dosyasi: {}\".format(trainFiles))\n",
    "\n",
    "    dataDf = pd.read_csv(file, delimiter = '\\t', encoding = 'utf-8', names = columns, header=0)\n",
    "\n",
    "    print(\"Train dosyasi dataframe ornegi:\")\n",
    "    print(dataDf[0:10])\n",
    "\n",
    "    print(\"Dataframede OFF ve NOT yerine label olarak 1 ve 0 yazıldı :\")\n",
    "    dataDf.loc[dataDf.subtask=='OFF', 'subtask']=1\n",
    "    dataDf.loc[dataDf.subtask=='NOT', 'subtask']=0\n",
    "    print(dataDf[0:10])\n",
    "    extractFeatures(dataDf)"
   ]
  },
  {
   "cell_type": "code",
   "execution_count": 5,
   "metadata": {},
   "outputs": [
    {
     "name": "stdout",
     "output_type": "stream",
     "text": [
      "Train dosyasi: ['./train\\\\offenseval-tr-training-v1.tsv']\n",
      "Train dosyasi dataframe ornegi:\n",
      "      id                                              tweet subtask\n",
      "0  20948  @USER en güzel uyuyan insan ödülü jeon jungkoo...     NOT\n",
      "1  10134  @USER Mekanı cennet olsun, saygılar sayın avuk...     NOT\n",
      "2  23457  Kızlar aranızda kas yığını beylere düşenler ol...     NOT\n",
      "3  18401  Biraz ders çalışayım. Tembellik ve uyku düşman...     NOT\n",
      "4  17525  @USER Trezeguet yerine El Sharawy daha iyi olm...     NOT\n",
      "5  11996  @USER Bence de olması gerekiyor. Hatta meslek ...     NOT\n",
      "6  38452  Mutlu gorunumlu ama daima mutsuz olanlar burda...     NOT\n",
      "7  12615  100 liraya tras oldum arkadaşım diyo ki ne kes...     NOT\n",
      "8  13520  @USER @USER @USER Reis bu ülkenin Devlet Başka...     OFF\n",
      "9  45562  Var olan, ancak düşünüldüğü kadarıyla vardır. ...     NOT\n",
      "Dataframede OFF ve NOT yerine label olarak 1 ve 0 yazıldı :\n",
      "      id                                              tweet  subtask\n",
      "0  20948  @USER en güzel uyuyan insan ödülü jeon jungkoo...        0\n",
      "1  10134  @USER Mekanı cennet olsun, saygılar sayın avuk...        0\n",
      "2  23457  Kızlar aranızda kas yığını beylere düşenler ol...        0\n",
      "3  18401  Biraz ders çalışayım. Tembellik ve uyku düşman...        0\n",
      "4  17525  @USER Trezeguet yerine El Sharawy daha iyi olm...        0\n",
      "5  11996  @USER Bence de olması gerekiyor. Hatta meslek ...        0\n",
      "6  38452  Mutlu gorunumlu ama daima mutsuz olanlar burda...        0\n",
      "7  12615  100 liraya tras oldum arkadaşım diyo ki ne kes...        0\n",
      "8  13520  @USER @USER @USER Reis bu ülkenin Devlet Başka...        1\n",
      "9  45562  Var olan, ancak düşünüldüğü kadarıyla vardır. ...        0\n",
      "   length  mention  label\n",
      "0       9        1      0\n",
      "1       9        1      0\n",
      "2      11        0      0\n",
      "3       7        0      0\n",
      "4       9        1      0\n",
      "5      39        1      0\n",
      "6      34        0      0\n",
      "7      14        0      0\n",
      "8      16        3      1\n",
      "9       8        0      0\n",
      "Logistic Regression Accuracy: 80.65%\n"
     ]
    }
   ],
   "source": [
    "if __name__ == \"__main__\":\n",
    "    readTrainFiles()"
   ]
  },
  {
   "cell_type": "code",
   "execution_count": null,
   "metadata": {},
   "outputs": [],
   "source": []
  }
 ],
 "metadata": {
  "kernelspec": {
   "display_name": "Python 3.7.3 64-bit ('base': conda)",
   "language": "python",
   "name": "python37364bitbaseconda66440d67148d4b538b5c0e8cc9b8c9ec"
  },
  "language_info": {
   "codemirror_mode": {
    "name": "ipython",
    "version": 3
   },
   "file_extension": ".py",
   "mimetype": "text/x-python",
   "name": "python",
   "nbconvert_exporter": "python",
   "pygments_lexer": "ipython3",
   "version": "3.7.3"
  }
 },
 "nbformat": 4,
 "nbformat_minor": 2
}
